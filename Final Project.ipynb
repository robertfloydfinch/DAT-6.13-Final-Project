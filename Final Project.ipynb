{
 "cells": [
  {
   "cell_type": "markdown",
   "metadata": {},
   "source": [
    "# GA Data Science - Final Project\n",
    "by Rob \"Chris\" Finch"
   ]
  },
  {
   "cell_type": "markdown",
   "metadata": {},
   "source": [
    "### My dataset:"
   ]
  },
  {
   "cell_type": "markdown",
   "metadata": {},
   "source": [
    "The dataset I've chosen for my final project is a database from Lendingtree.com about loan approvals, payment and delinquency.  The data has been anonymized, but contains copious amounts of information about the circumstances in which each loan was applied for, stats about the applicant and more."
   ]
  },
  {
   "cell_type": "markdown",
   "metadata": {},
   "source": [
    "### The Challenge:"
   ]
  },
  {
   "cell_type": "markdown",
   "metadata": {},
   "source": [
    "My ultimate goal is to use machine learning techniques to build a model that predicts whether or not a loan will receive a grade of A or not.  The loan can be graded from A (best) to G (worst), depending on factors about the loan applicant's credit and work history, etc.  In this exercise, I want to focus on the A loans.  These have a substantial volume of the total number of loans in the dataset (about 17%) and I want to explore the features that make a loan receive an A grade."
   ]
  },
  {
   "cell_type": "markdown",
   "metadata": {},
   "source": [
    "## Chapter 1: Exploratory Data Analysis"
   ]
  },
  {
   "cell_type": "code",
   "execution_count": 1,
   "metadata": {},
   "outputs": [],
   "source": [
    "import pandas as pd\n",
    "import matplotlib.pyplot as plt\n",
    "import numpy as np"
   ]
  },
  {
   "cell_type": "code",
   "execution_count": 2,
   "metadata": {
    "scrolled": true
   },
   "outputs": [
    {
     "name": "stderr",
     "output_type": "stream",
     "text": [
      "/anaconda3/lib/python3.6/site-packages/IPython/core/interactiveshell.py:2785: DtypeWarning: Columns (19,55) have mixed types. Specify dtype option on import or set low_memory=False.\n",
      "  interactivity=interactivity, compiler=compiler, result=result)\n"
     ]
    }
   ],
   "source": [
    "data = pd.read_csv('data/loan.csv')"
   ]
  },
  {
   "cell_type": "code",
   "execution_count": 3,
   "metadata": {
    "scrolled": true
   },
   "outputs": [
    {
     "name": "stdout",
     "output_type": "stream",
     "text": [
      "<class 'pandas.core.frame.DataFrame'>\n",
      "RangeIndex: 887379 entries, 0 to 887378\n",
      "Data columns (total 74 columns):\n",
      "id                             887379 non-null int64\n",
      "member_id                      887379 non-null int64\n",
      "loan_amnt                      887379 non-null float64\n",
      "funded_amnt                    887379 non-null float64\n",
      "funded_amnt_inv                887379 non-null float64\n",
      "term                           887379 non-null object\n",
      "int_rate                       887379 non-null float64\n",
      "installment                    887379 non-null float64\n",
      "grade                          887379 non-null object\n",
      "sub_grade                      887379 non-null object\n",
      "emp_title                      835917 non-null object\n",
      "emp_length                     842554 non-null object\n",
      "home_ownership                 887379 non-null object\n",
      "annual_inc                     887375 non-null float64\n",
      "verification_status            887379 non-null object\n",
      "issue_d                        887379 non-null object\n",
      "loan_status                    887379 non-null object\n",
      "pymnt_plan                     887379 non-null object\n",
      "url                            887379 non-null object\n",
      "desc                           126028 non-null object\n",
      "purpose                        887379 non-null object\n",
      "title                          887227 non-null object\n",
      "zip_code                       887379 non-null object\n",
      "addr_state                     887379 non-null object\n",
      "dti                            887379 non-null float64\n",
      "delinq_2yrs                    887350 non-null float64\n",
      "earliest_cr_line               887350 non-null object\n",
      "inq_last_6mths                 887350 non-null float64\n",
      "mths_since_last_delinq         433067 non-null float64\n",
      "mths_since_last_record         137053 non-null float64\n",
      "open_acc                       887350 non-null float64\n",
      "pub_rec                        887350 non-null float64\n",
      "revol_bal                      887379 non-null float64\n",
      "revol_util                     886877 non-null float64\n",
      "total_acc                      887350 non-null float64\n",
      "initial_list_status            887379 non-null object\n",
      "out_prncp                      887379 non-null float64\n",
      "out_prncp_inv                  887379 non-null float64\n",
      "total_pymnt                    887379 non-null float64\n",
      "total_pymnt_inv                887379 non-null float64\n",
      "total_rec_prncp                887379 non-null float64\n",
      "total_rec_int                  887379 non-null float64\n",
      "total_rec_late_fee             887379 non-null float64\n",
      "recoveries                     887379 non-null float64\n",
      "collection_recovery_fee        887379 non-null float64\n",
      "last_pymnt_d                   869720 non-null object\n",
      "last_pymnt_amnt                887379 non-null float64\n",
      "next_pymnt_d                   634408 non-null object\n",
      "last_credit_pull_d             887326 non-null object\n",
      "collections_12_mths_ex_med     887234 non-null float64\n",
      "mths_since_last_major_derog    221703 non-null float64\n",
      "policy_code                    887379 non-null float64\n",
      "application_type               887379 non-null object\n",
      "annual_inc_joint               511 non-null float64\n",
      "dti_joint                      509 non-null float64\n",
      "verification_status_joint      511 non-null object\n",
      "acc_now_delinq                 887350 non-null float64\n",
      "tot_coll_amt                   817103 non-null float64\n",
      "tot_cur_bal                    817103 non-null float64\n",
      "open_acc_6m                    21372 non-null float64\n",
      "open_il_6m                     21372 non-null float64\n",
      "open_il_12m                    21372 non-null float64\n",
      "open_il_24m                    21372 non-null float64\n",
      "mths_since_rcnt_il             20810 non-null float64\n",
      "total_bal_il                   21372 non-null float64\n",
      "il_util                        18617 non-null float64\n",
      "open_rv_12m                    21372 non-null float64\n",
      "open_rv_24m                    21372 non-null float64\n",
      "max_bal_bc                     21372 non-null float64\n",
      "all_util                       21372 non-null float64\n",
      "total_rev_hi_lim               817103 non-null float64\n",
      "inq_fi                         21372 non-null float64\n",
      "total_cu_tl                    21372 non-null float64\n",
      "inq_last_12m                   21372 non-null float64\n",
      "dtypes: float64(49), int64(2), object(23)\n",
      "memory usage: 501.0+ MB\n"
     ]
    }
   ],
   "source": [
    "data.info(verbose=True, null_counts=True)"
   ]
  },
  {
   "cell_type": "code",
   "execution_count": 4,
   "metadata": {
    "scrolled": true
   },
   "outputs": [
    {
     "data": {
      "text/html": [
       "<div>\n",
       "<style scoped>\n",
       "    .dataframe tbody tr th:only-of-type {\n",
       "        vertical-align: middle;\n",
       "    }\n",
       "\n",
       "    .dataframe tbody tr th {\n",
       "        vertical-align: top;\n",
       "    }\n",
       "\n",
       "    .dataframe thead th {\n",
       "        text-align: right;\n",
       "    }\n",
       "</style>\n",
       "<table border=\"1\" class=\"dataframe\">\n",
       "  <thead>\n",
       "    <tr style=\"text-align: right;\">\n",
       "      <th></th>\n",
       "      <th>id</th>\n",
       "      <th>member_id</th>\n",
       "      <th>loan_amnt</th>\n",
       "      <th>funded_amnt</th>\n",
       "      <th>funded_amnt_inv</th>\n",
       "      <th>term</th>\n",
       "      <th>int_rate</th>\n",
       "      <th>installment</th>\n",
       "      <th>grade</th>\n",
       "      <th>sub_grade</th>\n",
       "      <th>...</th>\n",
       "      <th>total_bal_il</th>\n",
       "      <th>il_util</th>\n",
       "      <th>open_rv_12m</th>\n",
       "      <th>open_rv_24m</th>\n",
       "      <th>max_bal_bc</th>\n",
       "      <th>all_util</th>\n",
       "      <th>total_rev_hi_lim</th>\n",
       "      <th>inq_fi</th>\n",
       "      <th>total_cu_tl</th>\n",
       "      <th>inq_last_12m</th>\n",
       "    </tr>\n",
       "  </thead>\n",
       "  <tbody>\n",
       "    <tr>\n",
       "      <th>0</th>\n",
       "      <td>1077501</td>\n",
       "      <td>1296599</td>\n",
       "      <td>5000.0</td>\n",
       "      <td>5000.0</td>\n",
       "      <td>4975.0</td>\n",
       "      <td>36 months</td>\n",
       "      <td>10.65</td>\n",
       "      <td>162.87</td>\n",
       "      <td>B</td>\n",
       "      <td>B2</td>\n",
       "      <td>...</td>\n",
       "      <td>NaN</td>\n",
       "      <td>NaN</td>\n",
       "      <td>NaN</td>\n",
       "      <td>NaN</td>\n",
       "      <td>NaN</td>\n",
       "      <td>NaN</td>\n",
       "      <td>NaN</td>\n",
       "      <td>NaN</td>\n",
       "      <td>NaN</td>\n",
       "      <td>NaN</td>\n",
       "    </tr>\n",
       "    <tr>\n",
       "      <th>1</th>\n",
       "      <td>1077430</td>\n",
       "      <td>1314167</td>\n",
       "      <td>2500.0</td>\n",
       "      <td>2500.0</td>\n",
       "      <td>2500.0</td>\n",
       "      <td>60 months</td>\n",
       "      <td>15.27</td>\n",
       "      <td>59.83</td>\n",
       "      <td>C</td>\n",
       "      <td>C4</td>\n",
       "      <td>...</td>\n",
       "      <td>NaN</td>\n",
       "      <td>NaN</td>\n",
       "      <td>NaN</td>\n",
       "      <td>NaN</td>\n",
       "      <td>NaN</td>\n",
       "      <td>NaN</td>\n",
       "      <td>NaN</td>\n",
       "      <td>NaN</td>\n",
       "      <td>NaN</td>\n",
       "      <td>NaN</td>\n",
       "    </tr>\n",
       "    <tr>\n",
       "      <th>2</th>\n",
       "      <td>1077175</td>\n",
       "      <td>1313524</td>\n",
       "      <td>2400.0</td>\n",
       "      <td>2400.0</td>\n",
       "      <td>2400.0</td>\n",
       "      <td>36 months</td>\n",
       "      <td>15.96</td>\n",
       "      <td>84.33</td>\n",
       "      <td>C</td>\n",
       "      <td>C5</td>\n",
       "      <td>...</td>\n",
       "      <td>NaN</td>\n",
       "      <td>NaN</td>\n",
       "      <td>NaN</td>\n",
       "      <td>NaN</td>\n",
       "      <td>NaN</td>\n",
       "      <td>NaN</td>\n",
       "      <td>NaN</td>\n",
       "      <td>NaN</td>\n",
       "      <td>NaN</td>\n",
       "      <td>NaN</td>\n",
       "    </tr>\n",
       "    <tr>\n",
       "      <th>3</th>\n",
       "      <td>1076863</td>\n",
       "      <td>1277178</td>\n",
       "      <td>10000.0</td>\n",
       "      <td>10000.0</td>\n",
       "      <td>10000.0</td>\n",
       "      <td>36 months</td>\n",
       "      <td>13.49</td>\n",
       "      <td>339.31</td>\n",
       "      <td>C</td>\n",
       "      <td>C1</td>\n",
       "      <td>...</td>\n",
       "      <td>NaN</td>\n",
       "      <td>NaN</td>\n",
       "      <td>NaN</td>\n",
       "      <td>NaN</td>\n",
       "      <td>NaN</td>\n",
       "      <td>NaN</td>\n",
       "      <td>NaN</td>\n",
       "      <td>NaN</td>\n",
       "      <td>NaN</td>\n",
       "      <td>NaN</td>\n",
       "    </tr>\n",
       "    <tr>\n",
       "      <th>4</th>\n",
       "      <td>1075358</td>\n",
       "      <td>1311748</td>\n",
       "      <td>3000.0</td>\n",
       "      <td>3000.0</td>\n",
       "      <td>3000.0</td>\n",
       "      <td>60 months</td>\n",
       "      <td>12.69</td>\n",
       "      <td>67.79</td>\n",
       "      <td>B</td>\n",
       "      <td>B5</td>\n",
       "      <td>...</td>\n",
       "      <td>NaN</td>\n",
       "      <td>NaN</td>\n",
       "      <td>NaN</td>\n",
       "      <td>NaN</td>\n",
       "      <td>NaN</td>\n",
       "      <td>NaN</td>\n",
       "      <td>NaN</td>\n",
       "      <td>NaN</td>\n",
       "      <td>NaN</td>\n",
       "      <td>NaN</td>\n",
       "    </tr>\n",
       "  </tbody>\n",
       "</table>\n",
       "<p>5 rows × 74 columns</p>\n",
       "</div>"
      ],
      "text/plain": [
       "        id  member_id  loan_amnt  funded_amnt  funded_amnt_inv        term  \\\n",
       "0  1077501    1296599     5000.0       5000.0           4975.0   36 months   \n",
       "1  1077430    1314167     2500.0       2500.0           2500.0   60 months   \n",
       "2  1077175    1313524     2400.0       2400.0           2400.0   36 months   \n",
       "3  1076863    1277178    10000.0      10000.0          10000.0   36 months   \n",
       "4  1075358    1311748     3000.0       3000.0           3000.0   60 months   \n",
       "\n",
       "   int_rate  installment grade sub_grade     ...      total_bal_il il_util  \\\n",
       "0     10.65       162.87     B        B2     ...               NaN     NaN   \n",
       "1     15.27        59.83     C        C4     ...               NaN     NaN   \n",
       "2     15.96        84.33     C        C5     ...               NaN     NaN   \n",
       "3     13.49       339.31     C        C1     ...               NaN     NaN   \n",
       "4     12.69        67.79     B        B5     ...               NaN     NaN   \n",
       "\n",
       "  open_rv_12m  open_rv_24m max_bal_bc all_util total_rev_hi_lim inq_fi  \\\n",
       "0         NaN          NaN        NaN      NaN              NaN    NaN   \n",
       "1         NaN          NaN        NaN      NaN              NaN    NaN   \n",
       "2         NaN          NaN        NaN      NaN              NaN    NaN   \n",
       "3         NaN          NaN        NaN      NaN              NaN    NaN   \n",
       "4         NaN          NaN        NaN      NaN              NaN    NaN   \n",
       "\n",
       "  total_cu_tl inq_last_12m  \n",
       "0         NaN          NaN  \n",
       "1         NaN          NaN  \n",
       "2         NaN          NaN  \n",
       "3         NaN          NaN  \n",
       "4         NaN          NaN  \n",
       "\n",
       "[5 rows x 74 columns]"
      ]
     },
     "execution_count": 4,
     "metadata": {},
     "output_type": "execute_result"
    }
   ],
   "source": [
    "data.head()"
   ]
  },
  {
   "cell_type": "markdown",
   "metadata": {},
   "source": [
    "As you can see, the dataset is quite enormous, at nearly 900,000 rows and almost half a gigabyte of storage space.  With some EDA techniques and minimizing some features, we will get the file size down significantly but still preserve data to make a meaningful model."
   ]
  },
  {
   "cell_type": "markdown",
   "metadata": {},
   "source": [
    "### After perusing the data, I've chosen to delete many of the features that aren't really applicable to our modeling.  "
   ]
  },
  {
   "cell_type": "markdown",
   "metadata": {},
   "source": [
    "For example, in the below, I'm deleting things that only have a very small number of data points (anything to do with joint accounts, for example)."
   ]
  },
  {
   "cell_type": "code",
   "execution_count": 5,
   "metadata": {},
   "outputs": [],
   "source": [
    "del data['annual_inc_joint']\n",
    "del data['dti_joint']\n",
    "del data['verification_status_joint']\n",
    "del data['open_acc_6m']\n",
    "del data['open_il_12m']\n",
    "del data['open_il_24m']\n",
    "del data['open_il_6m']\n",
    "del data['open_rv_12m']\n",
    "del data['open_rv_24m']\n",
    "del data['mths_since_rcnt_il']\n",
    "del data['total_bal_il']\n",
    "del data['il_util']\n",
    "del data['max_bal_bc']\n",
    "del data['all_util']\n",
    "del data['inq_fi']\n",
    "del data['total_cu_tl']\n",
    "del data['inq_last_12m']\n",
    "del data['revol_util']\n",
    "del data['last_pymnt_d']\n",
    "del data['next_pymnt_d']\n",
    "del data['last_credit_pull_d']"
   ]
  },
  {
   "cell_type": "markdown",
   "metadata": {},
   "source": [
    "I've also chosen to delete things that aren't meaningful to our model because they're too specific, and can't be enumerated, like the applicant's job title, the URL they used to get the loan, and the description of what the money's being used for."
   ]
  },
  {
   "cell_type": "code",
   "execution_count": 6,
   "metadata": {
    "scrolled": true
   },
   "outputs": [],
   "source": [
    "del data['emp_title']\n",
    "del data['url']\n",
    "del data['desc']\n",
    "del data['title']"
   ]
  },
  {
   "cell_type": "markdown",
   "metadata": {},
   "source": [
    "Finally, the zip code could have been useful but was partially hashed for privacy, so that's being deleted.  Additionally, I also investigated the application type and policy code features; these seemingly are some type of internal LendingTree documentation and are pretty meaningless to the outsider, so I deleted these as well."
   ]
  },
  {
   "cell_type": "code",
   "execution_count": 7,
   "metadata": {},
   "outputs": [],
   "source": [
    "del data['application_type']\n",
    "del data['zip_code']\n",
    "del data['policy_code']\n",
    "del data['mths_since_last_record']"
   ]
  },
  {
   "cell_type": "markdown",
   "metadata": {},
   "source": [
    "I'm also going to delete the subgrade column, as these will show a too-perfect correlation to our target predictor (ie. A is split into A1, A2, etc), and I don't want the model to confuse correlation with predictive capacity."
   ]
  },
  {
   "cell_type": "code",
   "execution_count": 8,
   "metadata": {},
   "outputs": [],
   "source": [
    "del data['sub_grade']"
   ]
  },
  {
   "cell_type": "markdown",
   "metadata": {},
   "source": [
    "Finally, I'm removing a few more columns that appear to have absolutely no correlation to our target variable either positive or negative:"
   ]
  },
  {
   "cell_type": "code",
   "execution_count": 9,
   "metadata": {},
   "outputs": [],
   "source": [
    "del data['dti']\n",
    "del data['mths_since_last_delinq']\n",
    "del data['mths_since_last_major_derog']\n",
    "del data['collections_12_mths_ex_med']"
   ]
  },
  {
   "cell_type": "markdown",
   "metadata": {},
   "source": [
    "Now that we've pared down some unnecessary columns, let's also take a look at the values themselves.  We will need to fill some empty cells with zero/\"unknown\" values in some cases, and records (rows) that contain empty values in others.\n",
    "\n",
    "For the employment length feature, I've chosen to keep the data as-is but fill in the gaps with \"unknown.\""
   ]
  },
  {
   "cell_type": "code",
   "execution_count": 10,
   "metadata": {},
   "outputs": [],
   "source": [
    "data['emp_length'] = data['emp_length'].fillna('Unknown')"
   ]
  },
  {
   "cell_type": "markdown",
   "metadata": {},
   "source": [
    "Additionally, for these columns below, I've chosen to delete any row in the dataset where they're empty.  That's because there is key data missing (such as the total current balance of the loan) where keeping the data in would be harmful to our ability to model."
   ]
  },
  {
   "cell_type": "code",
   "execution_count": 11,
   "metadata": {},
   "outputs": [],
   "source": [
    "data = data[data.tot_cur_bal.notnull()]"
   ]
  },
  {
   "cell_type": "code",
   "execution_count": 12,
   "metadata": {},
   "outputs": [],
   "source": [
    "data = data[data.tot_coll_amt.notnull()]"
   ]
  },
  {
   "cell_type": "code",
   "execution_count": 13,
   "metadata": {},
   "outputs": [],
   "source": [
    "data = data[data.total_rev_hi_lim.notnull()]"
   ]
  },
  {
   "cell_type": "markdown",
   "metadata": {},
   "source": [
    "Now if we look, we've managed to not only remove inconsistencies in the data set, but also to reduce the filesize by half:"
   ]
  },
  {
   "cell_type": "code",
   "execution_count": 14,
   "metadata": {
    "scrolled": true
   },
   "outputs": [
    {
     "name": "stdout",
     "output_type": "stream",
     "text": [
      "<class 'pandas.core.frame.DataFrame'>\n",
      "Int64Index: 817103 entries, 42535 to 887378\n",
      "Data columns (total 40 columns):\n",
      "id                         817103 non-null int64\n",
      "member_id                  817103 non-null int64\n",
      "loan_amnt                  817103 non-null float64\n",
      "funded_amnt                817103 non-null float64\n",
      "funded_amnt_inv            817103 non-null float64\n",
      "term                       817103 non-null object\n",
      "int_rate                   817103 non-null float64\n",
      "installment                817103 non-null float64\n",
      "grade                      817103 non-null object\n",
      "emp_length                 817103 non-null object\n",
      "home_ownership             817103 non-null object\n",
      "annual_inc                 817103 non-null float64\n",
      "verification_status        817103 non-null object\n",
      "issue_d                    817103 non-null object\n",
      "loan_status                817103 non-null object\n",
      "pymnt_plan                 817103 non-null object\n",
      "purpose                    817103 non-null object\n",
      "addr_state                 817103 non-null object\n",
      "delinq_2yrs                817103 non-null float64\n",
      "earliest_cr_line           817103 non-null object\n",
      "inq_last_6mths             817103 non-null float64\n",
      "open_acc                   817103 non-null float64\n",
      "pub_rec                    817103 non-null float64\n",
      "revol_bal                  817103 non-null float64\n",
      "total_acc                  817103 non-null float64\n",
      "initial_list_status        817103 non-null object\n",
      "out_prncp                  817103 non-null float64\n",
      "out_prncp_inv              817103 non-null float64\n",
      "total_pymnt                817103 non-null float64\n",
      "total_pymnt_inv            817103 non-null float64\n",
      "total_rec_prncp            817103 non-null float64\n",
      "total_rec_int              817103 non-null float64\n",
      "total_rec_late_fee         817103 non-null float64\n",
      "recoveries                 817103 non-null float64\n",
      "collection_recovery_fee    817103 non-null float64\n",
      "last_pymnt_amnt            817103 non-null float64\n",
      "acc_now_delinq             817103 non-null float64\n",
      "tot_coll_amt               817103 non-null float64\n",
      "tot_cur_bal                817103 non-null float64\n",
      "total_rev_hi_lim           817103 non-null float64\n",
      "dtypes: float64(26), int64(2), object(12)\n",
      "memory usage: 255.6+ MB\n"
     ]
    }
   ],
   "source": [
    "data.info(verbose=True, null_counts=True)"
   ]
  },
  {
   "cell_type": "markdown",
   "metadata": {},
   "source": [
    "### Organizing the Data:\n",
    "\n",
    "Now that I've cleansed the data and removed any anomalies, we can look to organize it in a way that will be most meaningful for us to analyze.\n",
    "\n",
    "Here, I'm going to be nesting the unique Lendingtree ID as the index, and exploring some of the data types of the columns.\n",
    "\n",
    "The loan term and employment lengths are currently objects because of the way they're notated in the data set.  I'm using key-value pairs (dictionaries) and the map method to fix these and turn them into easier-to-manipulate integers."
   ]
  },
  {
   "cell_type": "code",
   "execution_count": 15,
   "metadata": {},
   "outputs": [],
   "source": [
    "data = data.set_index('id')"
   ]
  },
  {
   "cell_type": "code",
   "execution_count": 16,
   "metadata": {
    "scrolled": true
   },
   "outputs": [
    {
     "data": {
      "text/plain": [
       "array([' 36 months', ' 60 months'], dtype=object)"
      ]
     },
     "execution_count": 16,
     "metadata": {},
     "output_type": "execute_result"
    }
   ],
   "source": [
    "data.term.unique()"
   ]
  },
  {
   "cell_type": "code",
   "execution_count": 17,
   "metadata": {},
   "outputs": [],
   "source": [
    "term_remap = {' 36 months': 36, ' 60 months': 60}\n",
    "data['term'] = data.term.map(term_remap)"
   ]
  },
  {
   "cell_type": "code",
   "execution_count": 18,
   "metadata": {},
   "outputs": [
    {
     "data": {
      "text/plain": [
       "array(['10+ years', '1 year', '2 years', '4 years', '3 years', '7 years',\n",
       "       '5 years', '6 years', '9 years', '8 years', '< 1 year', 'Unknown'],\n",
       "      dtype=object)"
      ]
     },
     "execution_count": 18,
     "metadata": {},
     "output_type": "execute_result"
    }
   ],
   "source": [
    "data.emp_length.unique()"
   ]
  },
  {
   "cell_type": "code",
   "execution_count": 19,
   "metadata": {},
   "outputs": [],
   "source": [
    "emp_length_dict = {'1 year': 1, '2 years': 2, '8 years': 8, '10+ years': 10, '6 years': 6, '7 years': 7, '5 years': 5, '9 years': 9, '3 years': 3, '< 1 year': 0, 'Unknown': 0, '4 years': 4}\n",
    "\n",
    "data['emp_length'] = data.emp_length.map(emp_length_dict)"
   ]
  },
  {
   "cell_type": "markdown",
   "metadata": {},
   "source": [
    "I'm also noticing that I have a couple of columns that are still of the object type that are really dates.  So, below, I'm importing the datetime library from Pandas and converting these to time series."
   ]
  },
  {
   "cell_type": "code",
   "execution_count": 20,
   "metadata": {},
   "outputs": [],
   "source": [
    "import datetime"
   ]
  },
  {
   "cell_type": "code",
   "execution_count": 21,
   "metadata": {},
   "outputs": [],
   "source": [
    "data['earliest_cr_line'] = pd.to_datetime(data.earliest_cr_line, errors='coerce')\n",
    "data['issue_d'] = pd.to_datetime(data.issue_d, errors='coerce')"
   ]
  },
  {
   "cell_type": "markdown",
   "metadata": {},
   "source": [
    "Finally, I want to specifically discuss the \"Grade\" column because that's where our analysis shall be focused. Rather than creating dummies for each grade received, all we need to do is create a new column in the dataframe that contains a numerical representation of a Boolean expression for a grade of A.  That is, a column that contains a 0 for B-G and a 1 for grades of A.  See below:"
   ]
  },
  {
   "cell_type": "code",
   "execution_count": 22,
   "metadata": {},
   "outputs": [],
   "source": [
    "grade_remap = {'A': 1, 'B': 0, 'C': 0, 'D': 0, 'E': 0, 'F': 0, 'G': 0}"
   ]
  },
  {
   "cell_type": "code",
   "execution_count": 23,
   "metadata": {},
   "outputs": [],
   "source": [
    "data['grade_a'] = data.grade.map(grade_remap)"
   ]
  },
  {
   "cell_type": "code",
   "execution_count": 24,
   "metadata": {},
   "outputs": [
    {
     "name": "stdout",
     "output_type": "stream",
     "text": [
      "<class 'pandas.core.frame.DataFrame'>\n",
      "Int64Index: 817103 entries, 10149342 to 36271262\n",
      "Data columns (total 40 columns):\n",
      "member_id                  817103 non-null int64\n",
      "loan_amnt                  817103 non-null float64\n",
      "funded_amnt                817103 non-null float64\n",
      "funded_amnt_inv            817103 non-null float64\n",
      "term                       817103 non-null int64\n",
      "int_rate                   817103 non-null float64\n",
      "installment                817103 non-null float64\n",
      "grade                      817103 non-null object\n",
      "emp_length                 817103 non-null int64\n",
      "home_ownership             817103 non-null object\n",
      "annual_inc                 817103 non-null float64\n",
      "verification_status        817103 non-null object\n",
      "issue_d                    817103 non-null datetime64[ns]\n",
      "loan_status                817103 non-null object\n",
      "pymnt_plan                 817103 non-null object\n",
      "purpose                    817103 non-null object\n",
      "addr_state                 817103 non-null object\n",
      "delinq_2yrs                817103 non-null float64\n",
      "earliest_cr_line           817103 non-null datetime64[ns]\n",
      "inq_last_6mths             817103 non-null float64\n",
      "open_acc                   817103 non-null float64\n",
      "pub_rec                    817103 non-null float64\n",
      "revol_bal                  817103 non-null float64\n",
      "total_acc                  817103 non-null float64\n",
      "initial_list_status        817103 non-null object\n",
      "out_prncp                  817103 non-null float64\n",
      "out_prncp_inv              817103 non-null float64\n",
      "total_pymnt                817103 non-null float64\n",
      "total_pymnt_inv            817103 non-null float64\n",
      "total_rec_prncp            817103 non-null float64\n",
      "total_rec_int              817103 non-null float64\n",
      "total_rec_late_fee         817103 non-null float64\n",
      "recoveries                 817103 non-null float64\n",
      "collection_recovery_fee    817103 non-null float64\n",
      "last_pymnt_amnt            817103 non-null float64\n",
      "acc_now_delinq             817103 non-null float64\n",
      "tot_coll_amt               817103 non-null float64\n",
      "tot_cur_bal                817103 non-null float64\n",
      "total_rev_hi_lim           817103 non-null float64\n",
      "grade_a                    817103 non-null int64\n",
      "dtypes: datetime64[ns](2), float64(26), int64(4), object(8)\n",
      "memory usage: 255.6+ MB\n"
     ]
    }
   ],
   "source": [
    "data.info(verbose=True)"
   ]
  },
  {
   "cell_type": "code",
   "execution_count": 25,
   "metadata": {},
   "outputs": [
    {
     "data": {
      "text/plain": [
       "0    685647\n",
       "1    131456\n",
       "Name: grade_a, dtype: int64"
      ]
     },
     "execution_count": 25,
     "metadata": {},
     "output_type": "execute_result"
    }
   ],
   "source": [
    "data.grade_a.value_counts()"
   ]
  },
  {
   "cell_type": "markdown",
   "metadata": {},
   "source": [
    "# Chapter 2: Instantiating Models"
   ]
  },
  {
   "cell_type": "code",
   "execution_count": 26,
   "metadata": {},
   "outputs": [],
   "source": [
    "from sklearn.linear_model import LogisticRegression\n",
    "from sklearn.tree import DecisionTreeClassifier\n",
    "from sklearn.ensemble import RandomForestClassifier\n",
    "from sklearn.model_selection import train_test_split\n",
    "from sklearn.metrics import classification_report, accuracy_score, confusion_matrix"
   ]
  },
  {
   "cell_type": "markdown",
   "metadata": {},
   "source": [
    "### Solving for Success:\n",
    "It's important to discuss what success will look like for this model.  First we should think about the ultimate end-goal of using this model.  This model is taking past loan data and will likely be used to apply decisioning on how to rate future ones.  That being said, when discussing false positives and false negatives, it seems as though we'd rather have a model with more false negatives as errors.  In other words, if someone shows up as a false negative, that means they'd be knocked down a few pegs in terms of loan ratings.  If we received false positives for this study, it means that someone would be qualifying for more highly-rated loans that isn't deserving of such.\n",
    "\n",
    "Accuracy alone isn't a great measure for this dataset, because accuracy prioritizes the weighting of importance of false positives and false negatives the same.  Since we're more comfortable with over-estimating false negatives rather than false positives, we'll look to Precision as the primary KPI for this model, while also accounting for Accuracy as a secondary KPI."
   ]
  },
  {
   "cell_type": "markdown",
   "metadata": {},
   "source": [
    "### Choosing Initial Models:"
   ]
  },
  {
   "cell_type": "markdown",
   "metadata": {},
   "source": [
    "I've chosen three core models as the basis for this project: Logistic Regression, Decision Tree Classification and Random Forest Classification.  I've chosen these three and eliminated others from the mix mostly for one reason: these are model types that can accommodate value weighting the most directly.  Because my dataset for A-grades vs B-G grades is skewed (ie. out of over 810k rows, only 131k are A-grade loans, or about 17% as I previously stated), the model needs to be able to account for the skew when predicting.  K-Nearest and other types of models will continue to only choose to bring the more common variables into the test sets at random.\n",
    "\n",
    "For all three models throughout this exercise, I will using the class_weight parameter with a setting of \"balanced\" to ensure that my test sets are relatively consistent with regard to the mix of A vs non-A loans."
   ]
  },
  {
   "cell_type": "markdown",
   "metadata": {},
   "source": [
    "### Choosing Features:\n",
    "I've chosen the initial X feature of interest rate purely based on intuition/gut; if the exercise is to determine the grade of a loan, the first thing I would look towards is the amount of the loan.  More credit-worthy people will tend to qualify to take out larger amounts of money."
   ]
  },
  {
   "cell_type": "code",
   "execution_count": 27,
   "metadata": {},
   "outputs": [],
   "source": [
    "X = data['loan_amnt'].values.reshape(-1,1)\n",
    "y = data['grade_a']"
   ]
  },
  {
   "cell_type": "code",
   "execution_count": 28,
   "metadata": {},
   "outputs": [],
   "source": [
    "X_train, X_test, y_train, y_test = train_test_split(X, y)"
   ]
  },
  {
   "cell_type": "markdown",
   "metadata": {},
   "source": [
    "## Logistic Regressor:"
   ]
  },
  {
   "cell_type": "code",
   "execution_count": 29,
   "metadata": {},
   "outputs": [],
   "source": [
    "lr = LogisticRegression(class_weight='balanced')"
   ]
  },
  {
   "cell_type": "code",
   "execution_count": 30,
   "metadata": {},
   "outputs": [
    {
     "data": {
      "text/plain": [
       "LogisticRegression(C=1.0, class_weight='balanced', dual=False,\n",
       "          fit_intercept=True, intercept_scaling=1, max_iter=100,\n",
       "          multi_class='ovr', n_jobs=1, penalty='l2', random_state=None,\n",
       "          solver='liblinear', tol=0.0001, verbose=0, warm_start=False)"
      ]
     },
     "execution_count": 30,
     "metadata": {},
     "output_type": "execute_result"
    }
   ],
   "source": [
    "lr.fit(X_train, y_train)"
   ]
  },
  {
   "cell_type": "code",
   "execution_count": 31,
   "metadata": {},
   "outputs": [],
   "source": [
    "lr_pred = lr.predict(X_test)"
   ]
  },
  {
   "cell_type": "code",
   "execution_count": 32,
   "metadata": {},
   "outputs": [],
   "source": [
    "lr_clf = classification_report(lr_pred, y_test)"
   ]
  },
  {
   "cell_type": "code",
   "execution_count": 33,
   "metadata": {},
   "outputs": [
    {
     "name": "stdout",
     "output_type": "stream",
     "text": [
      "Logistic Regression - Classification Report \n",
      " \n",
      "              precision    recall  f1-score   support\n",
      "\n",
      "          0       0.46      0.84      0.60     94773\n",
      "          1       0.53      0.16      0.25    109503\n",
      "\n",
      "avg / total       0.50      0.47      0.41    204276\n",
      "\n",
      "Accuracy Score: 0.4745442440619554\n"
     ]
    }
   ],
   "source": [
    "print(\"Logistic Regression - Classification Report\", \"\\n \\n\", lr_clf)\n",
    "print(\"Accuracy Score:\", accuracy_score(lr_pred, y_test))"
   ]
  },
  {
   "cell_type": "markdown",
   "metadata": {},
   "source": [
    "So, right now, our Logistic Regression model is unfortunately only about as good as a coin toss."
   ]
  },
  {
   "cell_type": "markdown",
   "metadata": {},
   "source": [
    "## Decision Tree:"
   ]
  },
  {
   "cell_type": "code",
   "execution_count": 34,
   "metadata": {},
   "outputs": [],
   "source": [
    "dt = DecisionTreeClassifier(max_depth=3, class_weight='balanced')"
   ]
  },
  {
   "cell_type": "code",
   "execution_count": 35,
   "metadata": {},
   "outputs": [
    {
     "name": "stdout",
     "output_type": "stream",
     "text": [
      "Decision Tree - Classification Report \n",
      " \n",
      "              precision    recall  f1-score   support\n",
      "\n",
      "          0       0.18      0.93      0.30     32579\n",
      "          1       0.93      0.18      0.30    171697\n",
      "\n",
      "avg / total       0.81      0.30      0.30    204276\n",
      "\n",
      "Accuracy Score: 0.29674557951007463\n"
     ]
    }
   ],
   "source": [
    "dt.fit(X_train, y_train)\n",
    "dt_pred = dt.predict(X_test)\n",
    "dt_clf = classification_report(dt_pred, y_test)\n",
    "print(\"Decision Tree - Classification Report\", \"\\n \\n\", dt_clf)\n",
    "print(\"Accuracy Score:\", accuracy_score(dt_pred, y_test))"
   ]
  },
  {
   "cell_type": "markdown",
   "metadata": {},
   "source": [
    "Our Decision Tree fared even worse. Let's look below to understand how it's decisioning currently a bit better:"
   ]
  },
  {
   "cell_type": "code",
   "execution_count": 36,
   "metadata": {},
   "outputs": [
    {
     "data": {
      "image/png": "[encoded data removed]",
      "text/plain": [
       "<IPython.core.display.Image object>"
      ]
     },
     "execution_count": 36,
     "metadata": {},
     "output_type": "execute_result"
    }
   ],
   "source": [
    "from sklearn.externals.six import StringIO  \n",
    "from IPython.display import Image  \n",
    "from sklearn.tree import export_graphviz\n",
    "import pydotplus\n",
    "\n",
    "dot_data = StringIO()\n",
    "export_graphviz(dt, out_file=dot_data,  filled=True, rounded=True, special_characters=True)\n",
    "graph = pydotplus.graph_from_dot_data(dot_data.getvalue())  \n",
    "Image(graph.create_png())"
   ]
  },
  {
   "cell_type": "markdown",
   "metadata": {},
   "source": [
    "## Random Forest:"
   ]
  },
  {
   "cell_type": "code",
   "execution_count": 37,
   "metadata": {},
   "outputs": [],
   "source": [
    "rf = RandomForestClassifier(class_weight='balanced', n_estimators=50)"
   ]
  },
  {
   "cell_type": "code",
   "execution_count": 38,
   "metadata": {},
   "outputs": [
    {
     "name": "stdout",
     "output_type": "stream",
     "text": [
      "Random Forest - Classification Report \n",
      " \n",
      "              precision    recall  f1-score   support\n",
      "\n",
      "          0       0.41      0.92      0.56     75403\n",
      "          1       0.83      0.21      0.34    128873\n",
      "\n",
      "avg / total       0.67      0.47      0.42    204276\n",
      "\n",
      "Accuracy Score: 0.47376099003309247\n"
     ]
    }
   ],
   "source": [
    "rf.fit(X_train, y_train)\n",
    "rf_pred = rf.predict(X_test)\n",
    "rf_clf = classification_report(rf_pred, y_test)\n",
    "print(\"Random Forest - Classification Report\", \"\\n \\n\", rf_clf)\n",
    "print(\"Accuracy Score:\", accuracy_score(rf_pred, y_test))"
   ]
  },
  {
   "cell_type": "markdown",
   "metadata": {},
   "source": [
    "### Summary Thus Far:"
   ]
  },
  {
   "cell_type": "markdown",
   "metadata": {},
   "source": [
    "After pulling together our initial models, it appears that Random Forest and Logistic Regression are about as accurate as a coin flip, while Decision Trees are worse.  In the next section, we'll look to make improvements upon these."
   ]
  },
  {
   "cell_type": "markdown",
   "metadata": {},
   "source": [
    "# Chapter 3: Model Enhancement"
   ]
  },
  {
   "cell_type": "markdown",
   "metadata": {},
   "source": [
    "There are a few major ways we'll look to improve and enhance our three models.  The most obvious are twofold: first, we'll leverage grid searches and pipelines against each model's hyperparameters to see how we can improve.  Then, we'll look to employ techniques of feature selection to ensure that our X axis really is the best we can be leveraging to predict A vs sub-A level loans."
   ]
  },
  {
   "cell_type": "markdown",
   "metadata": {},
   "source": [
    "## Part 1: Adding Grid Searches & Pipelines"
   ]
  },
  {
   "cell_type": "code",
   "execution_count": 39,
   "metadata": {},
   "outputs": [
    {
     "name": "stderr",
     "output_type": "stream",
     "text": [
      "/anaconda3/lib/python3.6/site-packages/sklearn/cross_validation.py:41: DeprecationWarning: This module was deprecated in version 0.18 in favor of the model_selection module into which all the refactored classes and functions are moved. Also note that the interface of the new CV iterators are different from that of this module. This module will be removed in 0.20.\n",
      "  \"This module will be removed in 0.20.\", DeprecationWarning)\n",
      "/anaconda3/lib/python3.6/site-packages/sklearn/grid_search.py:42: DeprecationWarning: This module was deprecated in version 0.18 in favor of the model_selection module into which all the refactored classes and functions are moved. This module will be removed in 0.20.\n",
      "  DeprecationWarning)\n"
     ]
    }
   ],
   "source": [
    "from sklearn.pipeline import make_pipeline\n",
    "from sklearn.grid_search import GridSearchCV\n",
    "from sklearn.preprocessing import StandardScaler, PolynomialFeatures"
   ]
  },
  {
   "cell_type": "markdown",
   "metadata": {},
   "source": [
    "### Logistic Regression:"
   ]
  },
  {
   "cell_type": "code",
   "execution_count": 76,
   "metadata": {},
   "outputs": [],
   "source": [
    "lr_pipe = make_pipeline(PolynomialFeatures(), LogisticRegression(class_weight='balanced'))"
   ]
  },
  {
   "cell_type": "code",
   "execution_count": 77,
   "metadata": {},
   "outputs": [],
   "source": [
    "lr_params = {'polynomialfeatures__degree': [i for i in range (1,10)],\n",
    "         'logisticregression__C': [0.1, 1, 5, 10, 100],\n",
    "            'logisticregression__class_weight': ['balanced']}"
   ]
  },
  {
   "cell_type": "code",
   "execution_count": 78,
   "metadata": {},
   "outputs": [],
   "source": [
    "lr_grid = GridSearchCV(lr_pipe, param_grid=lr_params)"
   ]
  },
  {
   "cell_type": "code",
   "execution_count": 79,
   "metadata": {},
   "outputs": [
    {
     "data": {
      "text/plain": [
       "GridSearchCV(cv=None, error_score='raise',\n",
       "       estimator=Pipeline(memory=None,\n",
       "     steps=[('polynomialfeatures', PolynomialFeatures(degree=2, include_bias=True, interaction_only=False)), ('logisticregression', LogisticRegression(C=1.0, class_weight='balanced', dual=False,\n",
       "          fit_intercept=True, intercept_scaling=1, max_iter=100,\n",
       "          multi_class='ovr', n_jobs=1, penalty='l2', random_state=None,\n",
       "          solver='liblinear', tol=0.0001, verbose=0, warm_start=False))]),\n",
       "       fit_params={}, iid=True, n_jobs=1,\n",
       "       param_grid={'polynomialfeatures__degree': [1, 2, 3, 4, 5, 6, 7, 8, 9], 'logisticregression__C': [0.1, 1, 5, 10, 100], 'logisticregression__class_weight': ['balanced']},\n",
       "       pre_dispatch='2*n_jobs', refit=True, scoring=None, verbose=0)"
      ]
     },
     "execution_count": 79,
     "metadata": {},
     "output_type": "execute_result"
    }
   ],
   "source": [
    "lr_grid.fit(X_train, y_train)"
   ]
  },
  {
   "cell_type": "code",
   "execution_count": 80,
   "metadata": {},
   "outputs": [],
   "source": [
    "lr_grid_best = lr_grid.best_estimator_\n",
    "lr_grid_pred = lr_grid_best.predict(X_test)"
   ]
  },
  {
   "cell_type": "code",
   "execution_count": 81,
   "metadata": {},
   "outputs": [
    {
     "name": "stderr",
     "output_type": "stream",
     "text": [
      "/anaconda3/lib/python3.6/site-packages/sklearn/metrics/classification.py:1137: UndefinedMetricWarning: Recall and F-score are ill-defined and being set to 0.0 in labels with no true samples.\n",
      "  'recall', 'true', average, warn_for)\n"
     ]
    }
   ],
   "source": [
    "lr_grid_clf = classification_report(lr_grid_pred, y_test)"
   ]
  },
  {
   "cell_type": "code",
   "execution_count": 82,
   "metadata": {},
   "outputs": [
    {
     "name": "stdout",
     "output_type": "stream",
     "text": [
      "Logistic Regression - Classification Report \n",
      " \n",
      "              precision    recall  f1-score   support\n",
      "\n",
      "          0       1.00      0.84      0.91    204276\n",
      "          1       0.00      0.00      0.00         0\n",
      "\n",
      "avg / total       1.00      0.84      0.91    204276\n",
      "\n",
      "Accuracy Score: 0.8387328907948071\n"
     ]
    }
   ],
   "source": [
    "print(\"Logistic Regression - Classification Report\", \"\\n \\n\", lr_grid_clf)\n",
    "print(\"Accuracy Score:\", accuracy_score(lr_grid_pred, y_test))"
   ]
  },
  {
   "cell_type": "markdown",
   "metadata": {},
   "source": [
    "The pipeline has improved our model significantly above the coin toss it started with!"
   ]
  },
  {
   "cell_type": "markdown",
   "metadata": {},
   "source": [
    "### Decision Tree:"
   ]
  },
  {
   "cell_type": "code",
   "execution_count": 47,
   "metadata": {},
   "outputs": [],
   "source": [
    "dt_pipe = make_pipeline(PolynomialFeatures(), DecisionTreeClassifier(class_weight='balanced'))"
   ]
  },
  {
   "cell_type": "code",
   "execution_count": 48,
   "metadata": {},
   "outputs": [],
   "source": [
    "dt_params = {'polynomialfeatures__degree': [i for i in range (1,5)],\n",
    "         'decisiontreeclassifier__max_depth': [i for i in range (1,5)]}"
   ]
  },
  {
   "cell_type": "code",
   "execution_count": 49,
   "metadata": {},
   "outputs": [],
   "source": [
    "dt_grid = GridSearchCV(dt_pipe, param_grid=dt_params)"
   ]
  },
  {
   "cell_type": "code",
   "execution_count": 50,
   "metadata": {},
   "outputs": [
    {
     "data": {
      "text/plain": [
       "GridSearchCV(cv=None, error_score='raise',\n",
       "       estimator=Pipeline(memory=None,\n",
       "     steps=[('polynomialfeatures', PolynomialFeatures(degree=2, include_bias=True, interaction_only=False)), ('decisiontreeclassifier', DecisionTreeClassifier(class_weight='balanced', criterion='gini',\n",
       "            max_depth=None, max_features=None, max_leaf_nodes=None...     min_weight_fraction_leaf=0.0, presort=False, random_state=None,\n",
       "            splitter='best'))]),\n",
       "       fit_params={}, iid=True, n_jobs=1,\n",
       "       param_grid={'polynomialfeatures__degree': [1, 2, 3, 4], 'decisiontreeclassifier__max_depth': [1, 2, 3, 4]},\n",
       "       pre_dispatch='2*n_jobs', refit=True, scoring=None, verbose=0)"
      ]
     },
     "execution_count": 50,
     "metadata": {},
     "output_type": "execute_result"
    }
   ],
   "source": [
    "dt_grid.fit(X_train, y_train)"
   ]
  },
  {
   "cell_type": "code",
   "execution_count": 51,
   "metadata": {},
   "outputs": [],
   "source": [
    "dt_grid_best = dt_grid.best_estimator_\n",
    "dt_grid_pred = dt_grid_best.predict(X_test)"
   ]
  },
  {
   "cell_type": "code",
   "execution_count": 52,
   "metadata": {},
   "outputs": [],
   "source": [
    "dt_grid_clf = classification_report(dt_grid_pred, y_test)"
   ]
  },
  {
   "cell_type": "code",
   "execution_count": 53,
   "metadata": {},
   "outputs": [
    {
     "name": "stdout",
     "output_type": "stream",
     "text": [
      "Decision Tree - Classification Report \n",
      " \n",
      "              precision    recall  f1-score   support\n",
      "\n",
      "          0       0.18      0.93      0.30     33440\n",
      "          1       0.92      0.18      0.30    170836\n",
      "\n",
      "avg / total       0.80      0.30      0.30    204276\n",
      "\n",
      "Accuracy Score: 0.3002163739254734\n"
     ]
    }
   ],
   "source": [
    "print(\"Decision Tree - Classification Report\", \"\\n \\n\", dt_grid_clf)\n",
    "print(\"Accuracy Score:\", accuracy_score(dt_grid_pred, y_test))"
   ]
  },
  {
   "cell_type": "markdown",
   "metadata": {},
   "source": [
    "### Random Forest:"
   ]
  },
  {
   "cell_type": "code",
   "execution_count": 54,
   "metadata": {},
   "outputs": [],
   "source": [
    "rf_pipe = make_pipeline(PolynomialFeatures(), RandomForestClassifier(class_weight='balanced'))"
   ]
  },
  {
   "cell_type": "code",
   "execution_count": 55,
   "metadata": {},
   "outputs": [],
   "source": [
    "rf_params = {'randomforestclassifier__n_estimators': [i for i in range (1,10)]}"
   ]
  },
  {
   "cell_type": "code",
   "execution_count": 56,
   "metadata": {},
   "outputs": [],
   "source": [
    "rf_grid = GridSearchCV(rf_pipe, param_grid=rf_params)"
   ]
  },
  {
   "cell_type": "code",
   "execution_count": 57,
   "metadata": {},
   "outputs": [
    {
     "data": {
      "text/plain": [
       "GridSearchCV(cv=None, error_score='raise',\n",
       "       estimator=Pipeline(memory=None,\n",
       "     steps=[('polynomialfeatures', PolynomialFeatures(degree=2, include_bias=True, interaction_only=False)), ('randomforestclassifier', RandomForestClassifier(bootstrap=True, class_weight='balanced',\n",
       "            criterion='gini', max_depth=None, max_features='auto',\n",
       "            max_leaf_nodes=None, min_i...imators=10, n_jobs=1, oob_score=False, random_state=None,\n",
       "            verbose=0, warm_start=False))]),\n",
       "       fit_params={}, iid=True, n_jobs=1,\n",
       "       param_grid={'randomforestclassifier__n_estimators': [1, 2, 3, 4, 5, 6, 7, 8, 9]},\n",
       "       pre_dispatch='2*n_jobs', refit=True, scoring=None, verbose=0)"
      ]
     },
     "execution_count": 57,
     "metadata": {},
     "output_type": "execute_result"
    }
   ],
   "source": [
    "rf_grid.fit(X_train, y_train)"
   ]
  },
  {
   "cell_type": "code",
   "execution_count": 58,
   "metadata": {},
   "outputs": [],
   "source": [
    "rf_grid_best = rf_grid.best_estimator_\n",
    "rf_grid_pred = rf_grid_best.predict(X_test)"
   ]
  },
  {
   "cell_type": "code",
   "execution_count": 59,
   "metadata": {},
   "outputs": [],
   "source": [
    "rf_grid_clf = classification_report(rf_grid_pred, y_test)"
   ]
  },
  {
   "cell_type": "code",
   "execution_count": 60,
   "metadata": {},
   "outputs": [
    {
     "name": "stdout",
     "output_type": "stream",
     "text": [
      "Random Forest - Classification Report \n",
      " \n",
      "              precision    recall  f1-score   support\n",
      "\n",
      "          0       0.41      0.92      0.57     76043\n",
      "          1       0.82      0.21      0.34    128233\n",
      "\n",
      "avg / total       0.67      0.48      0.42    204276\n",
      "\n",
      "Accuracy Score: 0.47595410131390864\n"
     ]
    }
   ],
   "source": [
    "print(\"Random Forest - Classification Report\", \"\\n \\n\", rf_grid_clf)\n",
    "print(\"Accuracy Score:\", accuracy_score(rf_grid_pred, y_test))"
   ]
  },
  {
   "cell_type": "markdown",
   "metadata": {},
   "source": [
    "Unlike the Logistic Regressor, the Decision Tree and Forest models remained largely unaided by the use of a pipeline"
   ]
  },
  {
   "cell_type": "markdown",
   "metadata": {},
   "source": [
    "### Summary:"
   ]
  },
  {
   "cell_type": "markdown",
   "metadata": {},
   "source": [
    "Due to the limitations we're seeming to have around class_weight, there's a limited amount of improvement that we're gleaning from exploring grid searches of optimal parameters on the tree and forest models.  The Logistic Regression model, however, has benefitted."
   ]
  },
  {
   "cell_type": "markdown",
   "metadata": {},
   "source": [
    "## Part 2: Feature Selection"
   ]
  },
  {
   "cell_type": "markdown",
   "metadata": {},
   "source": [
    "Because I have so many features already, I've decided to focus solely on the numerical ones for my feature selection."
   ]
  },
  {
   "cell_type": "code",
   "execution_count": 61,
   "metadata": {},
   "outputs": [],
   "source": [
    "from sklearn.feature_selection import SelectPercentile"
   ]
  },
  {
   "cell_type": "code",
   "execution_count": 62,
   "metadata": {},
   "outputs": [],
   "source": [
    "numerics = ['int16', 'int32', 'int64', 'float16', 'float32', 'float64']\n",
    "newdf = data.select_dtypes(include=numerics)"
   ]
  },
  {
   "cell_type": "code",
   "execution_count": 63,
   "metadata": {},
   "outputs": [],
   "source": [
    "X_new = newdf.drop('grade_a', axis=1)"
   ]
  },
  {
   "cell_type": "code",
   "execution_count": 64,
   "metadata": {},
   "outputs": [
    {
     "data": {
      "text/plain": [
       "SelectPercentile(percentile=10,\n",
       "         score_func=<function f_classif at 0x10c95bae8>)"
      ]
     },
     "execution_count": 64,
     "metadata": {},
     "output_type": "execute_result"
    }
   ],
   "source": [
    "select_percentile = SelectPercentile(percentile=10)\n",
    "select_percentile.fit(X_new, y)"
   ]
  },
  {
   "cell_type": "code",
   "execution_count": 65,
   "metadata": {},
   "outputs": [
    {
     "data": {
      "text/plain": [
       "<matplotlib.image.AxesImage at 0x119c08588>"
      ]
     },
     "execution_count": 65,
     "metadata": {},
     "output_type": "execute_result"
    },
    {
     "data": {
      "image/png": "[encoded data removed]",
      "text/plain": [
       "<Figure size 1152x144 with 1 Axes>"
      ]
     },
     "metadata": {},
     "output_type": "display_data"
    }
   ],
   "source": [
    "mask = select_percentile.get_support()\n",
    "plt.matshow(mask.reshape(1, -1), cmap = 'gray_r')"
   ]
  },
  {
   "cell_type": "code",
   "execution_count": 66,
   "metadata": {},
   "outputs": [
    {
     "data": {
      "text/plain": [
       "array([False, False, False, False,  True,  True, False, False, False,\n",
       "       False, False, False, False, False, False, False, False, False,\n",
       "       False, False,  True, False, False, False, False, False, False,\n",
       "       False, False])"
      ]
     },
     "execution_count": 66,
     "metadata": {},
     "output_type": "execute_result"
    }
   ],
   "source": [
    "select_percentile.get_support()"
   ]
  },
  {
   "cell_type": "code",
   "execution_count": 67,
   "metadata": {},
   "outputs": [
    {
     "name": "stdout",
     "output_type": "stream",
     "text": [
      "<class 'pandas.core.frame.DataFrame'>\n",
      "Int64Index: 817103 entries, 10149342 to 36271262\n",
      "Data columns (total 30 columns):\n",
      "member_id                  817103 non-null int64\n",
      "loan_amnt                  817103 non-null float64\n",
      "funded_amnt                817103 non-null float64\n",
      "funded_amnt_inv            817103 non-null float64\n",
      "term                       817103 non-null int64\n",
      "int_rate                   817103 non-null float64\n",
      "installment                817103 non-null float64\n",
      "emp_length                 817103 non-null int64\n",
      "annual_inc                 817103 non-null float64\n",
      "delinq_2yrs                817103 non-null float64\n",
      "inq_last_6mths             817103 non-null float64\n",
      "open_acc                   817103 non-null float64\n",
      "pub_rec                    817103 non-null float64\n",
      "revol_bal                  817103 non-null float64\n",
      "total_acc                  817103 non-null float64\n",
      "out_prncp                  817103 non-null float64\n",
      "out_prncp_inv              817103 non-null float64\n",
      "total_pymnt                817103 non-null float64\n",
      "total_pymnt_inv            817103 non-null float64\n",
      "total_rec_prncp            817103 non-null float64\n",
      "total_rec_int              817103 non-null float64\n",
      "total_rec_late_fee         817103 non-null float64\n",
      "recoveries                 817103 non-null float64\n",
      "collection_recovery_fee    817103 non-null float64\n",
      "last_pymnt_amnt            817103 non-null float64\n",
      "acc_now_delinq             817103 non-null float64\n",
      "tot_coll_amt               817103 non-null float64\n",
      "tot_cur_bal                817103 non-null float64\n",
      "total_rev_hi_lim           817103 non-null float64\n",
      "grade_a                    817103 non-null int64\n",
      "dtypes: float64(26), int64(4)\n",
      "memory usage: 193.3 MB\n"
     ]
    }
   ],
   "source": [
    "newdf.info()"
   ]
  },
  {
   "cell_type": "markdown",
   "metadata": {},
   "source": []
  },
  {
   "cell_type": "markdown",
   "metadata": {},
   "source": [
    "The above SelectPercentile model appears to show that the interest rate, installment and total late fee columns are the most important features for our model."
   ]
  },
  {
   "cell_type": "markdown",
   "metadata": {},
   "source": [
    "# Chapter 4: Bringing It All Together"
   ]
  },
  {
   "cell_type": "markdown",
   "metadata": {},
   "source": [
    "Now that we've investigated ways of improving our models, we can look to re-instantiate."
   ]
  },
  {
   "cell_type": "markdown",
   "metadata": {},
   "source": [
    "## Revised: Logistic Regression"
   ]
  },
  {
   "cell_type": "code",
   "execution_count": 68,
   "metadata": {},
   "outputs": [],
   "source": [
    "X_optimized = data[['int_rate', 'installment', 'total_rec_late_fee']]"
   ]
  },
  {
   "cell_type": "code",
   "execution_count": 69,
   "metadata": {},
   "outputs": [],
   "source": [
    "X_opt_train, X_opt_test, y_train, y_test = train_test_split(X_optimized, y)"
   ]
  },
  {
   "cell_type": "code",
   "execution_count": 70,
   "metadata": {},
   "outputs": [
    {
     "data": {
      "text/plain": [
       "LogisticRegression(C=1.0, class_weight='balanced', dual=False,\n",
       "          fit_intercept=True, intercept_scaling=1, max_iter=100,\n",
       "          multi_class='ovr', n_jobs=1, penalty='l2', random_state=None,\n",
       "          solver='liblinear', tol=0.0001, verbose=0, warm_start=False)"
      ]
     },
     "execution_count": 70,
     "metadata": {},
     "output_type": "execute_result"
    }
   ],
   "source": [
    "lr_opt_grid = LogisticRegression(class_weight='balanced')\n",
    "lr_opt_grid.fit(X_train, y_train)"
   ]
  },
  {
   "cell_type": "code",
   "execution_count": 71,
   "metadata": {},
   "outputs": [],
   "source": [
    "lr_opt_pred = lr_opt_grid.predict(X_test)"
   ]
  },
  {
   "cell_type": "code",
   "execution_count": 72,
   "metadata": {},
   "outputs": [],
   "source": [
    "lr_opt_clf = classification_report(lr_opt_pred, y_test)"
   ]
  },
  {
   "cell_type": "code",
   "execution_count": 73,
   "metadata": {},
   "outputs": [
    {
     "name": "stdout",
     "output_type": "stream",
     "text": [
      "Logistic Regression - Classification Report \n",
      " \n",
      "              precision    recall  f1-score   support\n",
      "\n",
      "          0       0.46      0.84      0.60     94472\n",
      "          1       0.54      0.16      0.25    109804\n",
      "\n",
      "avg / total       0.50      0.48      0.41    204276\n",
      "\n",
      "Accuracy Score: 0.4753911374806634\n"
     ]
    }
   ],
   "source": [
    "print(\"Logistic Regression - Classification Report\", \"\\n \\n\", lr_opt_clf)\n",
    "print(\"Accuracy Score:\", accuracy_score(lr_opt_pred, y_test))"
   ]
  },
  {
   "cell_type": "markdown",
   "metadata": {},
   "source": [
    "## Revised: Decision Tree"
   ]
  },
  {
   "cell_type": "code",
   "execution_count": 74,
   "metadata": {},
   "outputs": [
    {
     "name": "stdout",
     "output_type": "stream",
     "text": [
      "Decision Tree - Classification Report \n",
      " \n",
      "              precision    recall  f1-score   support\n",
      "\n",
      "          0       0.99      1.00      1.00    169841\n",
      "          1       1.00      0.96      0.98     34435\n",
      "\n",
      "avg / total       0.99      0.99      0.99    204276\n",
      "\n",
      "Accuracy Score: 0.9926472028040494\n",
      "\n",
      "\n"
     ]
    }
   ],
   "source": [
    "dt_opt = DecisionTreeClassifier(max_depth=3, class_weight='balanced')\n",
    "dt_opt.fit(X_opt_train, y_train)\n",
    "dt_opt_pred = dt_opt.predict(X_opt_test)\n",
    "dt_opt_clf = classification_report(dt_opt_pred, y_test)\n",
    "print(\"Decision Tree - Classification Report\", \"\\n \\n\", dt_opt_clf)\n",
    "print(\"Accuracy Score:\", accuracy_score(dt_opt_pred, y_test))\n",
    "print(\"\\n\")"
   ]
  },
  {
   "cell_type": "markdown",
   "metadata": {},
   "source": [
    "## Revised: Random Forest"
   ]
  },
  {
   "cell_type": "code",
   "execution_count": 75,
   "metadata": {},
   "outputs": [
    {
     "name": "stdout",
     "output_type": "stream",
     "text": [
      "Random Forest - Classification Report \n",
      " \n",
      "              precision    recall  f1-score   support\n",
      "\n",
      "          0       1.00      1.00      1.00    171332\n",
      "          1       1.00      1.00      1.00     32944\n",
      "\n",
      "avg / total       1.00      1.00      1.00    204276\n",
      "\n",
      "Accuracy Score: 0.999975523311598\n"
     ]
    }
   ],
   "source": [
    "rf_opt = RandomForestClassifier(class_weight='balanced', n_estimators=50)\n",
    "rf_opt.fit(X_opt_train, y_train)\n",
    "rf_opt_pred = rf_opt.predict(X_opt_test)\n",
    "rf_opt_clf = classification_report(rf_opt_pred, y_test)\n",
    "print(\"Random Forest - Classification Report\", \"\\n \\n\", rf_opt_clf)\n",
    "print(\"Accuracy Score:\", accuracy_score(rf_opt_pred, y_test))"
   ]
  },
  {
   "cell_type": "markdown",
   "metadata": {},
   "source": [
    "# Discussion"
   ]
  },
  {
   "cell_type": "markdown",
   "metadata": {},
   "source": [
    "The recalibration of the X column to include more significant features led to an almost perfect accuracy and precision rating for both the tree and forest models, but had no effect on the Logistic Regressor.\n",
    "\n",
    "Conversely, the Logistic Regressor showed significant improvements once we were able to build a pipeline and corresponding grid search for some of its best parameters, but the feature selection had almost no effect positive or negative on this model."
   ]
  }
 ],
 "metadata": {
  "kernelspec": {
   "display_name": "Python 3",
   "language": "python",
   "name": "python3"
  },
  "language_info": {
   "codemirror_mode": {
    "name": "ipython",
    "version": 3
   },
   "file_extension": ".py",
   "mimetype": "text/x-python",
   "name": "python",
   "nbconvert_exporter": "python",
   "pygments_lexer": "ipython3",
   "version": "3.6.5"
  }
 },
 "nbformat": 4,
 "nbformat_minor": 2
}
